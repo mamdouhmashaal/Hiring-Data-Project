{
  "nbformat": 4,
  "nbformat_minor": 0,
  "metadata": {
    "colab": {
      "provenance": []
    },
    "kernelspec": {
      "name": "python3",
      "display_name": "Python 3"
    },
    "language_info": {
      "name": "python"
    }
  },
  "cells": [
    {
      "cell_type": "code",
      "source": [
        "import pandas as pd\n",
        "import numpy as np"
      ],
      "metadata": {
        "id": "1uIWwFYi7hqJ"
      },
      "execution_count": null,
      "outputs": []
    },
    {
      "cell_type": "code",
      "source": [
        "def clean_data(input_file, output_file):\n",
        "    if input_file.endswith('.csv'):\n",
        "        # Load CSV file into a DataFrame\n",
        "        df = pd.read_csv(input_file)\n",
        "\n",
        "    elif input_file.endswith('.xlsx'):\n",
        "        # Load XLSX file into a DataFrame\n",
        "        df = pd.read_excel(input_file)\n",
        "\n",
        "    else:\n",
        "        print(\"Unsupported file format.\")\n",
        "        return\n",
        "\n",
        "    #Unifying Date Columns to Datetime type and filling null with '1900-01-01'\n",
        "    columns_to_convert = ['Board interview date', 'Created', 'Modified','Technical interview date']\n",
        "    for column in columns_to_convert:\n",
        "        default_datetime = '1900-01-01'\n",
        "        df[column] = pd.to_datetime(df[column])\n",
        "        df[column] = df[column].fillna(pd.to_datetime(default_datetime))\n",
        "\n",
        "\n",
        "    #Removing Special Characters\n",
        "    df['Applicant Name'] = df['Applicant Name'].str.replace(r'[^a-zA-Z0-9@\\,\\.\\-\\s]', '', regex=True)\n",
        "    df['emailAddress'] = df['emailAddress'].str.replace(r'[^a-zA-Z0-9@\\,\\.\\-\\s]', '', regex=True)\n",
        "\n",
        "    # Handle null values by replacing [] with NULL\n",
        "    df['fit_to_account'].replace('[]', 'None', inplace=True)\n",
        "\n",
        "    #Handling Null Values in Object Columns\n",
        "    columns_to_Handle = ['Applicant Name', 'Contact number', 'Interviewers names','Years of experience']\n",
        "    for column in columns_to_Handle:\n",
        "      df[column]=df[column].fillna(value='None',inplace=False)\n",
        "\n",
        "\n",
        "    # Check for duplicates\n",
        "    duplicate_rows = df[df.duplicated()]\n",
        "    if not duplicate_rows.empty:\n",
        "        print(\"Duplicate rows found:\")\n",
        "        print(duplicate_rows)\n",
        "\n",
        "    # Export cleaned data to another CSV or Excel file based on the output_file extension\n",
        "    if output_file.endswith('.csv'):\n",
        "        df.to_csv(output_file, index=False)\n",
        "    elif output_file.endswith('.xlsx'):\n",
        "        df.to_excel(output_file, index=False)\n",
        "    else:\n",
        "        print(\"Unsupported output file format.\")\n",
        "        return\n",
        "\n",
        "    print(f\"Cleaned data saved to {output_file}\")"
      ],
      "metadata": {
        "id": "DDqFEs3ylj4m"
      },
      "execution_count": null,
      "outputs": []
    },
    {
      "cell_type": "code",
      "source": [
        "input_file = '/content/Applicants.xlsx'\n",
        "output_file = '/content/Applicants (Preprocessed).xlsx'\n",
        "\n",
        "clean_data(input_file, output_file)"
      ],
      "metadata": {
        "id": "S4esmrjKiPf_"
      },
      "execution_count": null,
      "outputs": []
    }
  ]
}